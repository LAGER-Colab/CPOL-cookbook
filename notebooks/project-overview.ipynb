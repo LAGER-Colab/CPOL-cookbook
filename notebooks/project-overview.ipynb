{
 "cells": [
  {
   "cell_type": "markdown",
   "id": "f56ead60-af10-45c9-8e37-a22f4e0cf8a3",
   "metadata": {},
   "source": [
    "# CPOL Cookbook\n",
    "This is an analysis cookbook focused on working CPOL data, which is C-band radar data collected in Australia."
   ]
  },
  {
   "cell_type": "code",
   "execution_count": null,
   "id": "a5dbddc0-ef7d-4bc1-b28d-370061965237",
   "metadata": {},
   "outputs": [],
   "source": []
  }
 ],
 "metadata": {
  "kernelspec": {
   "display_name": "Python 3 (ipykernel)",
   "language": "python",
   "name": "python3"
  },
  "language_info": {
   "codemirror_mode": {
    "name": "ipython",
    "version": 3
   },
   "file_extension": ".py",
   "mimetype": "text/x-python",
   "name": "python",
   "nbconvert_exporter": "python",
   "pygments_lexer": "ipython3",
   "version": "3.9.12"
  }
 },
 "nbformat": 4,
 "nbformat_minor": 5
}
